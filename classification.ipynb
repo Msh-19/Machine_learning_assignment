{
 "cells": [
  {
   "cell_type": "code",
   "execution_count": 1,
   "metadata": {},
   "outputs": [
    {
     "name": "stdout",
     "output_type": "stream",
     "text": [
      "10\n",
      "dog\n",
      "dog done\n",
      "cat\n",
      "cat done\n",
      "horse\n",
      "horse done\n",
      "elephant\n",
      "elephant done\n",
      "butterfly\n",
      "butterfly done\n",
      "chicken\n",
      "chicken done\n",
      "cow\n",
      "cow done\n",
      "sheep\n",
      "sheep done\n",
      "spider\n",
      "spider done\n",
      "squirrel\n",
      "squirrel done\n"
     ]
    }
   ],
   "source": [
    "import os\n",
    "import random\n",
    "import numpy as np\n",
    "from skimage.io import imread\n",
    "from skimage.transform import resize\n",
    "from skimage.color import gray2rgb, rgba2rgb\n",
    "from sklearn.model_selection import train_test_split\n",
    "from sklearn.preprocessing import StandardScaler\n",
    "from sklearn.svm import SVC\n",
    "from sklearn.metrics import accuracy_score, confusion_matrix, classification_report\n",
    "\n",
    "name_mapping = {\n",
    "    \"cane\": \"dog\",\n",
    "    \"gatto\": \"cat\",\n",
    "    \"cavallo\": \"horse\",\n",
    "    \"elefante\": \"elephant\",\n",
    "    \"farfalla\": \"butterfly\",\n",
    "    \"gallina\": \"chicken\",\n",
    "    \"mucca\": \"cow\",\n",
    "    \"pecora\": \"sheep\",\n",
    "    \"ragno\": \"spider\",\n",
    "    \"scoiattolo\": \"squirrel\",\n",
    "}\n",
    "\n",
    "print(len(name_mapping))\n",
    "\n",
    "# Define the path to the dataset\n",
    "dataset_path = './raw-img/'\n",
    "\n",
    "# Define the target size for resizing images\n",
    "image_size = (64, 64)\n",
    "\n",
    "# Specify the number of samples per category\n",
    "samples_per_category = 5000\n",
    "\n",
    "# Initialize lists to hold the data and labels\n",
    "data = []\n",
    "labels = []\n",
    "\n",
    "# Create reverse mapping for labels\n",
    "label_map = {v: idx for idx, v in enumerate(name_mapping.values())}\n",
    "categories = list(name_mapping.values())\n",
    "\n",
    "# Load the images from each category folder\n",
    "for italian_name, english_name in name_mapping.items():\n",
    "    category_path = os.path.join(dataset_path, italian_name)\n",
    "    image_files = os.listdir(category_path)\n",
    "    sampled_files = random.sample(image_files, min(samples_per_category, len(image_files)))\n",
    "    print(english_name)\n",
    "    for img_name in sampled_files:\n",
    "        img_path = os.path.join(category_path, img_name)\n",
    "        try:\n",
    "            img = imread(img_path)\n",
    "            # Ensure all images are in RGB format\n",
    "            if img.shape[-1] == 4:  # RGBA image\n",
    "                img = rgba2rgb(img)\n",
    "            elif len(img.shape) == 2:  # Grayscale image\n",
    "                img = gray2rgb(img)\n",
    "            img_resized = resize(img, image_size, anti_aliasing=True)\n",
    "            if img_resized.shape == (64, 64, 3):\n",
    "                data.append(img_resized)\n",
    "                labels.append(label_map[english_name])\n",
    "            else:\n",
    "                print(f\"Skipping image {img_name} due to unexpected shape {img_resized.shape}\")\n",
    "        except Exception as e:\n",
    "            print(f\"Error loading image {img_name}: {e}\")\n",
    "    print(english_name, 'done')"
   ]
  },
  {
   "cell_type": "code",
   "execution_count": 2,
   "metadata": {},
   "outputs": [],
   "source": [
    "# Convert lists to numpy arrays\n",
    "data = np.array(data)\n",
    "labels = np.array(labels)\n",
    "\n",
    "# Normalize the data\n",
    "data = data / 255.0\n",
    "\n",
    "# Flatten the images for scikit-learn\n",
    "data = data.reshape((data.shape[0], -1))"
   ]
  },
  {
   "cell_type": "code",
   "execution_count": 3,
   "metadata": {},
   "outputs": [],
   "source": [
    "# Split the dataset\n",
    "X_train, X_test, y_train, y_test = train_test_split(data, labels, test_size=0.2, random_state=42 ,stratify=labels)\n",
    "\n",
    "# Standardize the data\n",
    "scaler = StandardScaler()\n",
    "X_train = scaler.fit_transform(X_train)\n",
    "X_test = scaler.transform(X_test)"
   ]
  },
  {
   "cell_type": "code",
   "execution_count": 4,
   "metadata": {},
   "outputs": [
    {
     "name": "stdout",
     "output_type": "stream",
     "text": [
      "Accuracy: 30.54%\n",
      "Confusion Matrix:\n",
      "[[335 108  69  57  65  88  33  69 100  49]\n",
      " [101  59  15  18  21  29   6   8  46  31]\n",
      " [ 73  30 199  44  18  35  52  29  32  13]\n",
      " [ 67  16  38  67  15  21  14  15  28   8]\n",
      " [ 86  37  19  24  96  39  13  27  56  25]\n",
      " [114  57  47  26  31 210  26  32  44  33]\n",
      " [ 55  16  69  22  16  24  96  47  22   6]\n",
      " [ 68  21  27  16  18  31  26 116  29  12]\n",
      " [216  95  37  36  78  57  17  34 344  50]\n",
      " [ 79  35  17  20  26  29   6  23  60  77]]\n",
      "\n",
      "Classification Report:\n",
      "              precision    recall  f1-score   support\n",
      "\n",
      "         dog       0.28      0.34      0.31       973\n",
      "         cat       0.12      0.18      0.15       334\n",
      "       horse       0.37      0.38      0.37       525\n",
      "    elephant       0.20      0.23      0.22       289\n",
      "   butterfly       0.25      0.23      0.24       422\n",
      "     chicken       0.37      0.34      0.36       620\n",
      "         cow       0.33      0.26      0.29       373\n",
      "       sheep       0.29      0.32      0.30       364\n",
      "      spider       0.45      0.36      0.40       964\n",
      "    squirrel       0.25      0.21      0.23       372\n",
      "\n",
      "    accuracy                           0.31      5236\n",
      "   macro avg       0.29      0.28      0.29      5236\n",
      "weighted avg       0.32      0.31      0.31      5236\n",
      "\n"
     ]
    }
   ],
   "source": [
    "# Train a Model\n",
    "svm = SVC(kernel='linear', C=1.0, random_state=42)\n",
    "svm.fit(X_train, y_train)\n",
    "y_pred = svm.predict(X_test)\n",
    "\n",
    "# Evaluate the Model\n",
    "accuracy = accuracy_score(y_test, y_pred)\n",
    "print(f'Accuracy: {accuracy * 100:.2f}%')\n",
    "\n",
    "conf_matrix = confusion_matrix(y_test, y_pred)\n",
    "class_report = classification_report(y_test, y_pred, target_names=categories)\n",
    "\n",
    "print('Confusion Matrix:')\n",
    "print(conf_matrix)\n",
    "print('\\nClassification Report:')\n",
    "print(class_report)"
   ]
  },
  {
   "cell_type": "code",
   "execution_count": 5,
   "metadata": {},
   "outputs": [
    {
     "name": "stdout",
     "output_type": "stream",
     "text": [
      "Fitting 5 folds for each of 12 candidates, totalling 60 fits\n",
      "[CV 1/5] END C=0.1, gamma=scale, kernel=linear;, score=0.292 total time=106.5min\n"
     ]
    }
   ],
   "source": [
    "# Hyperparameter Tuning\n",
    "from sklearn.model_selection import GridSearchCV\n",
    "\n",
    "param_grid = {'C': [0.1, 1, 10], 'kernel': ['linear', 'rbf'], 'gamma': ['scale', 'auto']}\n",
    "grid = GridSearchCV(SVC(), param_grid, refit=True, verbose=3, cv=5)\n",
    "grid.fit(X_train, y_train)\n",
    "\n",
    "grid_predictions = grid.predict(X_test)\n",
    "\n",
    "grid_accuracy = accuracy_score(y_test, grid_predictions)\n",
    "print(f'Grid Search Accuracy: {grid_accuracy * 100:.2f}%')\n",
    "print('Best Parameters:', grid.best_params_)"
   ]
  }
 ],
 "metadata": {
  "kernelspec": {
   "display_name": "base",
   "language": "python",
   "name": "python3"
  },
  "language_info": {
   "codemirror_mode": {
    "name": "ipython",
    "version": 3
   },
   "file_extension": ".py",
   "mimetype": "text/x-python",
   "name": "python",
   "nbconvert_exporter": "python",
   "pygments_lexer": "ipython3",
   "version": "3.11.7"
  }
 },
 "nbformat": 4,
 "nbformat_minor": 2
}
